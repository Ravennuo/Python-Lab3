{
 "cells": [
  {
   "cell_type": "code",
   "execution_count": null,
   "id": "b0c2038d",
   "metadata": {},
   "outputs": [],
   "source": [
    "for num in range(45, 210):\n",
    "    if num == 100:\n",
    "        continue\n",
    "    elif num == 205:\n",
    "        break\n",
    "    else:\n",
    "        print(num)"
   ]
  },
  {
   "cell_type": "code",
   "execution_count": 9,
   "id": "c873240a",
   "metadata": {},
   "outputs": [
    {
     "name": "stdout",
     "output_type": "stream",
     "text": [
      "what is the product of 7 * 24 ?180\n",
      "Your Answer is wrong try again..\n",
      "what is the product of 7 * 24 ?80\n",
      "Your Answer is wrong try again..\n",
      "what is the product of 7 * 24 ?168\n",
      "You answered this Question correctly\n"
     ]
    }
   ],
   "source": [
    "while(True):\n",
    "    ans = int(input(\"what is the product of 7 * 24 ?\"))\n",
    "    if ans == 168:\n",
    "        print(\"You answered this Question correctly\")\n",
    "        break\n",
    "    else:\n",
    "        print(\"Your Answer is wrong try again..\")\n",
    "        continue"
   ]
  }
 ],
 "metadata": {
  "kernelspec": {
   "display_name": "Python 3 (ipykernel)",
   "language": "python",
   "name": "python3"
  },
  "language_info": {
   "codemirror_mode": {
    "name": "ipython",
    "version": 3
   },
   "file_extension": ".py",
   "mimetype": "text/x-python",
   "name": "python",
   "nbconvert_exporter": "python",
   "pygments_lexer": "ipython3",
   "version": "3.11.3"
  }
 },
 "nbformat": 4,
 "nbformat_minor": 5
}
